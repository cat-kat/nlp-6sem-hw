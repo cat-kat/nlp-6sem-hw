{
 "cells": [
  {
   "cell_type": "code",
   "execution_count": 1,
   "metadata": {
    "collapsed": true,
    "pycharm": {
     "name": "#%%\n"
    }
   },
   "outputs": [],
   "source": [
    "import nltk\n",
    "import pymorphy2\n",
    "import math\n",
    "from matplotlib import pyplot as pp\n",
    "import codecs\n",
    "\n",
    "morph = pymorphy2.MorphAnalyzer()"
   ]
  },
  {
   "cell_type": "code",
   "execution_count": 2,
   "outputs": [],
   "source": [
    "from sklearn.feature_extraction.text import TfidfTransformer"
   ],
   "metadata": {
    "collapsed": false,
    "pycharm": {
     "name": "#%%\n"
    }
   }
  },
  {
   "cell_type": "code",
   "execution_count": 3,
   "outputs": [],
   "source": [
    "text = codecs.open(\"/home/katty/anaconda3/_nlp/project_hp/corp/5.txt\", \"r\", \"utf-8\").read() # у меня был на компьютер текст Гарри Поттера, пробовала на нем"
   ],
   "metadata": {
    "collapsed": false,
    "pycharm": {
     "name": "#%%\n"
    }
   }
  },
  {
   "cell_type": "code",
   "execution_count": 4,
   "outputs": [
    {
     "name": "stdout",
     "output_type": "stream",
     "text": [
      "['джоан', 'роулинга', 'гарри', 'поттер', 'и', 'орден', 'феникс', 'глава', 'дадли', 'достаться']\n"
     ]
    }
   ],
   "source": [
    "normal_text = [morph.parse(word.lower())[0].normal_form for word in nltk.tokenize.word_tokenize(text) if word.isalpha()]\n",
    "print(normal_text[:10])"
   ],
   "metadata": {
    "collapsed": false,
    "pycharm": {
     "name": "#%%\n"
    }
   }
  },
  {
   "cell_type": "code",
   "execution_count": 64,
   "outputs": [
    {
     "name": "stdout",
     "output_type": "stream",
     "text": [
      "['дверь гарри услышать как в замок поворачиваться ключ вслед за это', 'сила через мгновение громко щёлкнуть замок гарри аж подскочить и дверь', 'магически запирать за уйти многочисленный замок и засов ужинать быть на', 'закоптить дверь с огромный железный замок он тяжело привалиться к стена', 'карета который всегда возить в замок ученик начинать с второй курс', 'весь территория быть совершенно темно замок хогвартс между тем становиться всё', 'ведущий к дубовый входной дверь замок карета с лязг остановиться гарри', 'стебль гриффиндорец потянуться обратно в замок разговаривать мало позади быть ещё', 'который вести в левый крыло замок чжоу сказать я до встреча', 'через два они вернуться в замок на обед в ход который', 'с два сторона полететь к замок всё переодеваться слизеринец проводить они', 'амбридж отправиться по лужайка к замок гарри выйти из кабинет амбридж', 'дверь и повернуть торчать в замок ключ замок успокоительно щёлкнуть всё', 'повернуть торчать в замок ключ замок успокоительно щёлкнуть всё умолкнуть повернуться', 'кухня когтевранец в западный башня замок гриффиндорец по коридор с портрет', 'надеть снежный шапка а в замок стать так холодно что между', 'снаружи усиливаться зритель валить из замок на матч только что выяснить', 'видеть такой поведение марш в замок вы двое и немедленно в', 'три цепочка след от дверь замок до ваш дверь вкрадчивый произнести', 'и чуть отодвинуть занавеска к замок пойти тихо сообщить он вот', 'честной а вы ребятки в замок дан забыть след за себя', 'возвращаться по глубокий снег к замок гермиона старательно заметать за они', 'гермиона когда они возвращаться в замок по тропинка они же протоптать', 'гермиона они надзирать за украшение замок ты вешать мишура а пивз', 'побрести по скользкий дорожка к замок гермиона уже говорить о тот', 'когда подойти к дубовый дверь замок гарри оглянуться назад ночной рыцарь', 'увольнение а теперь быть добрыпокинуть замок вы мы мешать с жадный', 'нет право выгонять они из замок бояться продолжать он с короткий', 'что скорее навсегда уехать из замок чем остаться здесь вместе с', 'совершенно забыть что они в замок а вовсе не в глухой', 'но когда он идти к замок на душа у он скрести', 'страдание профессор трелонь в вестибюль замок он поймать да что вы', 'почему весь до единый обитатель замок стать известно что дамблдору удаться', 'вчера вечером когда они обыскать замок и территория но так и', 'каменный ступень к парадный дверь замок мечтать как быть командовать другой', 'второй этаж он сказать в замок происходить больший перемена поттер я', 'весь тайный ход ведущий в замок и из замок если я', 'ведущий в замок и из замок если я найти хотя бы', 'который не терпеться выбраться из замок на залить солнце луг признак', 'нож который можно открыть любой замок пояснить гарри даже если она', 'в коридор и разъярённый смотритель замок извлекать она оттуда истошно орать', 'парадный аллея они шагать к замок с крайне рассердить вид мочь', 'перемена когда они выйти из замок погреться в жиденький луч майский', 'пуффендуец который направляться обратно в замок он не просить мы помогать', 'издеваться по зелёный склон к замок подниматься огромный толпа ученик возвращаться', 'от масса медленно двигаться к замок и несущий насвоих многочисленный плечо', 'провожать он взгляд у дверь замок образоваться пробка и рон как', 'близко подходить к грохха окрестность замок сиять на солнце безоблачный небо', 'а потом направиться обратно к замок письменный экзамен по астрономия в', 'идеальный тихий и безоблачный окрестность замок купаться в серебристый лунный свет', 'другой это гаснуть окно в замок однако когда гарри закончить наносить', 'карта созвездие орион парадный дверь замок распахнуться прямо под парапет у', 'и указывать на парадный дверь замок который снова открыться на тёмный', 'заклятие на полпути между хижинойя замок красный луч угодить в она', 'и после это возглас в замок снова вспыхнуть несколько окно жалкий', 'лаванда она принести обратно в замок мы видеть из окошко спальня', 'тот чтобы держать сириус под замок сказать гарри постоять воскликнуть гермиона', 'щель между дверь и косяком замок щёлкнуть и дверь отвориться они', 'мы отсюда надо возвращаться в замок беспомощно ответить гермиона к тот', 'так быстро фестрал пронестись над замок почти не взмахивать крыло холодный', 'у обычный дверь быть бы замок она сказать алохомор ничего не', 'не рассказывать после возвращение в замок она насколько знать ребята ещё', 'и скрыться за дверь в замок стоять тишина необычный даже для', 'макгонагалл только что подняться в замок по парадный лестница в один', 'он подняться и зашагать к замок на ход вытирать лицо рукав', 'посмотреть как она удирать из замок и декан факультет пытаться они', 'пир ну почему в это замок всегда полно привидение когда они', 'к окно на луг вокруг замок уже опуститься сумерки это когда', 'возвращаться не всё почему этот замок не переполненный привидение я не', 'медленно побрести обратно по пустой замок он казаться что он навсегда']\n"
     ]
    }
   ],
   "source": [
    "key_word = {\"замок\"}\n",
    "docs = [\" \".join(normal_text[i:i+11]) for i in range(len(normal_text)-11) if normal_text[i+5] in key_word]\n",
    "print(docs)"
   ],
   "metadata": {
    "collapsed": false,
    "pycharm": {
     "name": "#%%\n"
    }
   }
  },
  {
   "cell_type": "code",
   "execution_count": 65,
   "outputs": [],
   "source": [
    "import pandas as pd\n",
    "from sklearn.feature_extraction.text import CountVectorizer"
   ],
   "metadata": {
    "collapsed": false,
    "pycharm": {
     "name": "#%%\n"
    }
   }
  },
  {
   "cell_type": "code",
   "execution_count": 66,
   "outputs": [],
   "source": [
    "\n",
    "cv=CountVectorizer()\n",
    "# this steps generates word counts for the words in your docs\n",
    "word_count_vector=cv.fit_transform(docs)"
   ],
   "metadata": {
    "collapsed": false,
    "pycharm": {
     "name": "#%%\n"
    }
   }
  },
  {
   "cell_type": "code",
   "execution_count": 67,
   "outputs": [
    {
     "data": {
      "text/plain": "TfidfTransformer()"
     },
     "execution_count": 67,
     "metadata": {},
     "output_type": "execute_result"
    }
   ],
   "source": [
    "tfidf_transformer=TfidfTransformer(smooth_idf=True,use_idf=True)\n",
    "tfidf_transformer.fit(word_count_vector)"
   ],
   "metadata": {
    "collapsed": false,
    "pycharm": {
     "name": "#%%\n"
    }
   }
  },
  {
   "cell_type": "code",
   "execution_count": 68,
   "outputs": [],
   "source": [
    "count_vector=cv.transform(docs)\n",
    "# tf-idf scores\n",
    "tf_idf_vector=tfidf_transformer.transform(count_vector)"
   ],
   "metadata": {
    "collapsed": false,
    "pycharm": {
     "name": "#%%\n"
    }
   }
  },
  {
   "cell_type": "code",
   "execution_count": 69,
   "outputs": [
    {
     "name": "stdout",
     "output_type": "stream",
     "text": [
      "(70, 374)\n"
     ]
    }
   ],
   "source": [
    "print(tf_idf_vector.shape)"
   ],
   "metadata": {
    "collapsed": false,
    "pycharm": {
     "name": "#%%\n"
    }
   }
  },
  {
   "cell_type": "code",
   "execution_count": 70,
   "outputs": [
    {
     "name": "stdout",
     "output_type": "stream",
     "text": [
      "[[-0.12038585 -0.12038585 -0.12038585 ... -0.12038585  3.7609079\n",
      "  -0.12038585]\n",
      " [ 8.30662386 -0.12038585 -0.12038585 ... -0.12038585 -0.27728135\n",
      "  -0.12038585]\n",
      " [-0.12038585 -0.12038585 -0.12038585 ... -0.12038585 -0.27728135\n",
      "  -0.12038585]\n",
      " ...\n",
      " [-0.12038585 -0.12038585 -0.12038585 ... -0.12038585  3.58757303\n",
      "  -0.12038585]\n",
      " [-0.12038585 -0.12038585 -0.12038585 ... -0.12038585 -0.27728135\n",
      "   8.30662386]\n",
      " [-0.12038585 -0.12038585 -0.12038585 ... -0.12038585 -0.27728135\n",
      "  -0.12038585]]\n"
     ]
    }
   ],
   "source": [
    "res = tf_idf_vector.toarray()\n",
    "\n",
    "from sklearn.preprocessing import StandardScaler\n",
    "\n",
    "scaler = StandardScaler()\n",
    "\n",
    "res_scal = scaler.fit_transform(res)\n",
    "\n",
    "print(res_scal)"
   ],
   "metadata": {
    "collapsed": false,
    "pycharm": {
     "name": "#%%\n"
    }
   }
  },
  {
   "cell_type": "code",
   "execution_count": 71,
   "outputs": [
    {
     "name": "stdout",
     "output_type": "stream",
     "text": [
      "[[-1.09821833e+00 -1.32498949e+00 -3.10116203e+00 ... -2.93101826e-01\n",
      "  -1.44726598e-01  9.24858161e-01]\n",
      " [-1.04320045e+00 -1.30279471e+00 -3.86732130e+00 ...  1.36682720e+00\n",
      "  -5.86953572e-01  9.16013261e-02]\n",
      " [-8.70334756e-01 -9.99084620e-02  3.68953331e-01 ... -6.98962301e+00\n",
      "  -2.33653924e+00 -9.55977427e-01]\n",
      " ...\n",
      " [-8.60926533e-01  5.26309333e-01 -1.68399757e+00 ... -3.47555808e-01\n",
      "   9.42637530e-01 -2.33029493e+00]\n",
      " [ 1.02562629e+00 -2.47891048e-01 -2.35572740e-01 ...  3.20456640e-03\n",
      "   1.63371533e+00 -1.26671291e+00]\n",
      " [-3.05050443e-01 -6.25609622e-01  4.08323490e+00 ... -5.14028507e-01\n",
      "  -3.78389005e-01 -7.06772258e-01]]\n"
     ]
    }
   ],
   "source": [
    "from sklearn.decomposition import PCA\n",
    "\n",
    "pca = PCA(20)\n",
    "c_20 = pca.fit_transform(res_scal)\n",
    "print(c_20)"
   ],
   "metadata": {
    "collapsed": false,
    "pycharm": {
     "name": "#%%\n"
    }
   }
  },
  {
   "cell_type": "code",
   "execution_count": 72,
   "outputs": [
    {
     "name": "stdout",
     "output_type": "stream",
     "text": [
      "(69,)\n"
     ]
    }
   ],
   "source": [
    "from sklearn.cluster import KMeans\n",
    "\n",
    "from sklearn.neighbors import LocalOutlierFactor\n",
    "\n",
    "import numpy\n",
    "\n",
    "loc = LocalOutlierFactor(n_neighbors=2, contamination=0.01)\n",
    "\n",
    "preds = loc.fit_predict(c_20)\n",
    "\n",
    "c_20_no_out = c_20[preds == 1, :]\n",
    "\n",
    "kmeans = KMeans(2)\n",
    "\n",
    "cluster = kmeans.fit_predict(c_20_no_out)\n",
    "\n",
    "print(cluster.shape)\n",
    "cls_1 = []\n",
    "cls_2 = []\n",
    "\n"
   ],
   "metadata": {
    "collapsed": false,
    "pycharm": {
     "name": "#%%\n"
    }
   }
  },
  {
   "cell_type": "code",
   "execution_count": 75,
   "outputs": [
    {
     "name": "stdout",
     "output_type": "stream",
     "text": [
      "[0 0 0 0 0 0 0 0 0 0 0 0 0 0 0 0 0 0 0 0 0 0 0 0 0 0 0 0 0 0 0 0 0 0 0 0 0\n",
      " 0 0 0 0 0 0 0 0 0 0 1 0 1 0 0 0 0 0 0 0 0 0 0 0 0 0 0 0 0 0 0 0]\n",
      "['сила через мгновение громко щёлкнуть замок гарри аж подскочить и дверь', 'закоптить дверь с огромный железный замок он тяжело привалиться к стена', 'ведущий к дубовый входной дверь замок карета с лязг остановиться гарри', 'через два они вернуться в замок на обед в ход который', 'с два сторона полететь к замок всё переодеваться слизеринец проводить они', 'амбридж отправиться по лужайка к замок гарри выйти из кабинет амбридж', 'дверь и повернуть торчать в замок ключ замок успокоительно щёлкнуть всё']\n",
      "['почему весь до единый обитатель замок стать известно что дамблдору удаться', 'близко подходить к грохха окрестность замок сиять на солнце безоблачный небо', 'идеальный тихий и безоблачный окрестность замок купаться в серебристый лунный свет', 'близко подходить к грохха окрестность замок сиять на солнце безоблачный небо', 'идеальный тихий и безоблачный окрестность замок купаться в серебристый лунный свет']\n"
     ]
    },
    {
     "data": {
      "text/plain": "<Figure size 432x288 with 1 Axes>",
      "image/png": "[encoded data removed]"
     },
     "metadata": {
      "needs_background": "light"
     },
     "output_type": "display_data"
    }
   ],
   "source": [
    "vis_scaler = StandardScaler()\n",
    "vis_pca = PCA(2)\n",
    "t_scales = vis_scaler.fit_transform(res)\n",
    "t_2 = vis_pca.fit_transform(t_scales)\n",
    "loc = LocalOutlierFactor(n_neighbors=1, contamination=0.01)\n",
    "\n",
    "preds = loc.fit_predict(t_2)\n",
    "\n",
    "t_2_no_out = t_2[preds == 1, :]\n",
    "\n",
    "\n",
    "kmeans = KMeans(2)\n",
    "\n",
    "cluster = kmeans.fit_predict(t_2_no_out)\n",
    "\n",
    "print(cluster)\n",
    "docs_clus = []\n",
    "for i in range(len(preds)):\n",
    "    if preds[i] == 1:\n",
    "        docs_clus.append(docs[i])\n",
    "\n",
    "for i in range(len(docs_clus)):\n",
    "    if cluster[i] == 0:\n",
    "        cls_1.append(docs_clus[i])\n",
    "    else:\n",
    "        cls_2.append(docs_clus[i])\n",
    "t_first = t_2_no_out[cluster == 0, :]\n",
    "t_second = t_2_no_out[cluster == 1, :]\n",
    "\n",
    "pp.plot(t_first[:, 0], t_first[:, 1], 'o')\n",
    "pp.plot(t_second[:, 0], t_second[:, 1], 'or')\n",
    "#pp.xlim([-3, 3])\n",
    "#pp.ylim([-3, 3])\n",
    "print(cls_1[:7])\n",
    "print(cls_2[:7])"
   ],
   "metadata": {
    "collapsed": false,
    "pycharm": {
     "name": "#%%\n"
    }
   }
  },
  {
   "cell_type": "code",
   "execution_count": 74,
   "outputs": [],
   "source": [],
   "metadata": {
    "collapsed": false,
    "pycharm": {
     "name": "#%%\n"
    }
   }
  },
  {
   "cell_type": "code",
   "execution_count": 14,
   "outputs": [],
   "source": [],
   "metadata": {
    "collapsed": false,
    "pycharm": {
     "name": "#%%\n"
    }
   }
  },
  {
   "cell_type": "code",
   "execution_count": 14,
   "outputs": [],
   "source": [],
   "metadata": {
    "collapsed": false,
    "pycharm": {
     "name": "#%%\n"
    }
   }
  },
  {
   "cell_type": "code",
   "execution_count": 14,
   "outputs": [],
   "source": [],
   "metadata": {
    "collapsed": false,
    "pycharm": {
     "name": "#%%\n"
    }
   }
  }
 ],
 "metadata": {
  "kernelspec": {
   "display_name": "Python 3",
   "language": "python",
   "name": "python3"
  },
  "language_info": {
   "codemirror_mode": {
    "name": "ipython",
    "version": 2
   },
   "file_extension": ".py",
   "mimetype": "text/x-python",
   "name": "python",
   "nbconvert_exporter": "python",
   "pygments_lexer": "ipython2",
   "version": "2.7.6"
  }
 },
 "nbformat": 4,
 "nbformat_minor": 0
}