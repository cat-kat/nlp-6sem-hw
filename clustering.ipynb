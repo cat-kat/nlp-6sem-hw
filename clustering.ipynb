{
 "cells": [
  {
   "cell_type": "code",
   "execution_count": 17,
   "metadata": {
    "collapsed": true
   },
   "outputs": [],
   "source": [
    "import nltk\n",
    "import pymorphy2\n",
    "import math\n",
    "from matplotlib import pyplot as pp\n",
    "import codecs\n",
    "\n",
    "morph = pymorphy2.MorphAnalyzer()"
   ]
  },
  {
   "cell_type": "code",
   "execution_count": 18,
   "outputs": [],
   "source": [
    "from sklearn.feature_extraction.text import TfidfTransformer"
   ],
   "metadata": {
    "collapsed": false,
    "pycharm": {
     "name": "#%%\n"
    }
   }
  },
  {
   "cell_type": "code",
   "execution_count": 19,
   "outputs": [],
   "source": [
    "text = codecs.open(\"/home/katty/anaconda3/_nlp/project_hp/corp/5.txt\", \"r\", \"utf-8\").read() # у меня был на компьютер текст Гарри Поттера, пробовала на нем"
   ],
   "metadata": {
    "collapsed": false,
    "pycharm": {
     "name": "#%%\n"
    }
   }
  },
  {
   "cell_type": "code",
   "execution_count": 20,
   "outputs": [
    {
     "name": "stdout",
     "output_type": "stream",
     "text": [
      "['джоан', 'роулинга', 'гарри', 'поттер', 'и', 'орден', 'феникс', 'глава', 'дадли', 'достаться']\n"
     ]
    }
   ],
   "source": [
    "normal_text = [morph.parse(word.lower())[0].normal_form for word in nltk.tokenize.word_tokenize(text) if word.isalpha()]\n",
    "print(normal_text[:10])"
   ],
   "metadata": {
    "collapsed": false,
    "pycharm": {
     "name": "#%%\n"
    }
   }
  },
  {
   "cell_type": "code",
   "execution_count": 34,
   "outputs": [
    {
     "name": "stdout",
     "output_type": "stream",
     "text": [
      "202161\n",
      "[[], [], [], []]\n"
     ]
    }
   ],
   "source": [
    "docs = [\" \".join(normal_text[i:i+11]) for i in range(len(normal_text)-11)]\n",
    "key_words = [\"феникс\", \"ключ\", \"орден\", \"замок\"]\n",
    "key_numbers = [[] for i in range(len(key_words))]\n",
    "print(len(docs))\n",
    "print(key_numbers)"
   ],
   "metadata": {
    "collapsed": false,
    "pycharm": {
     "name": "#%%\n"
    }
   }
  },
  {
   "cell_type": "code",
   "execution_count": 35,
   "outputs": [
    {
     "name": "stdout",
     "output_type": "stream",
     "text": [
      "[[1, 14138, 15298, 16004, 18426, 18879, 21098, 22269, 30903, 33367, 37993, 38353, 41783, 62574, 106275, 107240, 107265, 108106, 109181, 112751, 117603, 139241, 139509, 170413, 188103, 189592, 191736, 194596, 195115], [10669, 49921, 90758, 179133], [0, 14137, 14151, 14678, 15297, 16003, 16015, 16120, 16194, 16205, 16686, 16735, 16902, 18425, 18878, 19789, 20812, 21058, 21097, 21151, 21174, 21329, 22268, 22281, 22807, 22925, 23056, 23353, 23765, 26587, 27747, 28232, 28256, 28721, 37992, 38161, 38352, 41782, 42706, 42752, 42810, 62573, 69320, 72917, 77516, 86698, 89062, 96138, 106274, 108105, 108785, 108812, 108839, 112750, 112760, 113738, 117602, 118445, 126309, 156558, 167990, 170395, 170412, 170947, 184537, 191735, 191795, 191890, 191937, 192043, 192466, 195114], [10667, 10850, 18537, 32783, 47220, 48049, 48084, 63391, 68746, 69706, 70632, 77104, 90757, 90759, 91992, 93142, 93884, 95572, 100296, 100821, 101068, 101099, 103049, 103283, 120375, 120395, 132924, 133222, 133686, 134842, 135210, 136523, 139722, 139903, 139964, 140757, 141563, 141566, 144659, 148458, 153582, 153753, 154340, 159644, 159771, 159822, 159876, 160773, 163922, 164229, 164315, 164327, 164985, 165099, 165162, 165725, 167713, 169364, 174288, 175541, 178191, 196800, 197169, 197677, 198650, 198830, 199404, 199657, 199959, 200109]]\n"
     ]
    }
   ],
   "source": [
    "for i in range(len(normal_text)-11):\n",
    "    for j in range(len(key_numbers)):\n",
    "        if normal_text[i+5] == key_words[j]:\n",
    "            key_numbers[j].append(i)\n",
    "            break\n",
    "print(key_numbers)"
   ],
   "metadata": {
    "collapsed": false,
    "pycharm": {
     "name": "#%%\n"
    }
   }
  },
  {
   "cell_type": "code",
   "execution_count": 36,
   "outputs": [],
   "source": [
    "import pandas as pd\n",
    "from sklearn.feature_extraction.text import CountVectorizer"
   ],
   "metadata": {
    "collapsed": false,
    "pycharm": {
     "name": "#%%\n"
    }
   }
  },
  {
   "cell_type": "code",
   "execution_count": 37,
   "outputs": [],
   "source": [
    "cv=CountVectorizer()\n",
    "# this steps generates word counts for the words in your docs\n",
    "word_count_vector=cv.fit_transform(docs)"
   ],
   "metadata": {
    "collapsed": false,
    "pycharm": {
     "name": "#%%\n"
    }
   }
  },
  {
   "cell_type": "code",
   "execution_count": 38,
   "outputs": [
    {
     "data": {
      "text/plain": "(202161, 13368)"
     },
     "execution_count": 38,
     "metadata": {},
     "output_type": "execute_result"
    }
   ],
   "source": [
    "\n",
    "word_count_vector.shape"
   ],
   "metadata": {
    "collapsed": false,
    "pycharm": {
     "name": "#%%\n"
    }
   }
  },
  {
   "cell_type": "code",
   "execution_count": 39,
   "outputs": [
    {
     "data": {
      "text/plain": "TfidfTransformer()"
     },
     "execution_count": 39,
     "metadata": {},
     "output_type": "execute_result"
    }
   ],
   "source": [
    "tfidf_transformer=TfidfTransformer(smooth_idf=True,use_idf=True)\n",
    "tfidf_transformer.fit(word_count_vector)"
   ],
   "metadata": {
    "collapsed": false,
    "pycharm": {
     "name": "#%%\n"
    }
   }
  },
  {
   "cell_type": "code",
   "execution_count": 40,
   "outputs": [],
   "source": [
    "count_vector=cv.transform(docs)\n",
    "# tf-idf scores\n",
    "tf_idf_vector=tfidf_transformer.transform(count_vector)"
   ],
   "metadata": {
    "collapsed": false,
    "pycharm": {
     "name": "#%%\n"
    }
   }
  },
  {
   "cell_type": "code",
   "execution_count": 41,
   "outputs": [
    {
     "name": "stdout",
     "output_type": "stream",
     "text": [
      "(202161, 13368)\n"
     ]
    }
   ],
   "source": [
    "print(tf_idf_vector.shape)"
   ],
   "metadata": {
    "collapsed": false,
    "pycharm": {
     "name": "#%%\n"
    }
   }
  },
  {
   "cell_type": "code",
   "execution_count": 42,
   "outputs": [
    {
     "name": "stdout",
     "output_type": "stream",
     "text": [
      "  (0, 12554)\t0.2813796431603688\n",
      "  (0, 10145)\t0.45701388526911585\n",
      "  (0, 10039)\t0.40473259542316703\n",
      "  (0, 8469)\t0.19986568787695702\n",
      "  (0, 6640)\t0.24696707667714718\n",
      "  (0, 2447)\t0.30848734052534227\n",
      "  (0, 2237)\t0.4723051822937228\n",
      "  (0, 2080)\t0.2292777968510452\n",
      "  (0, 1812)\t0.25821788651858474\n",
      "  (0, 1772)\t0.09866555428473246\n",
      "  (1, 12554)\t0.34360186087013384\n",
      "  (1, 9370)\t0.3230258905393962\n",
      "  (1, 7979)\t0.3179969848384824\n",
      "  (1, 7558)\t0.1808453181890387\n",
      "  (1, 6640)\t0.3015795533991805\n",
      "  (1, 6545)\t0.2057855795387362\n",
      "  (1, 5536)\t0.31619398576503843\n",
      "  (1, 4629)\t0.37324839282811906\n",
      "  (1, 3448)\t0.3562710685156958\n",
      "  (1, 25)\t0.3797958903831599\n",
      "  (2, 13287)\t0.19266928244700926\n",
      "  (2, 12959)\t0.15270561499514226\n",
      "  (2, 10207)\t0.41986245096748376\n",
      "  (2, 7548)\t0.3948991642226432\n",
      "  (2, 6640)\t0.3656393659535117\n",
      "  :\t:\n",
      "  (69, 11073)\t0.5130601017632777\n",
      "  (69, 10549)\t0.26566749839279813\n",
      "  (69, 6640)\t0.3901484376109328\n",
      "  (69, 3538)\t0.43608705516752777\n",
      "  (69, 3454)\t0.2685860025893426\n",
      "  (69, 1780)\t0.31978181796553057\n",
      "  (70, 12959)\t0.1312434701968951\n",
      "  (70, 12366)\t0.28860420052739066\n",
      "  (70, 11939)\t0.16741957751995584\n",
      "  (70, 11710)\t0.23653214499258082\n",
      "  (70, 8375)\t0.5149970801249579\n",
      "  (70, 7304)\t0.36851894711013666\n",
      "  (70, 6774)\t0.19207884554278576\n",
      "  (70, 6640)\t0.31425026008282586\n",
      "  (70, 1072)\t0.4837770598653212\n",
      "  (70, 786)\t0.21163656815722312\n",
      "  (71, 12983)\t0.4186589360877345\n",
      "  (71, 12949)\t0.3127340634325592\n",
      "  (71, 12554)\t0.33984203049565787\n",
      "  (71, 11862)\t0.3831916192300533\n",
      "  (71, 10099)\t0.31939910025234236\n",
      "  (71, 6640)\t0.29827954808978063\n",
      "  (71, 6105)\t0.2911178566597617\n",
      "  (71, 3524)\t0.41049020373744083\n",
      "  (71, 625)\t0.14267231750432863\n"
     ]
    }
   ],
   "source": [
    "res_1 = tf_idf_vector[key_numbers[2], :]\n",
    "print(res_1)"
   ],
   "metadata": {
    "collapsed": false,
    "pycharm": {
     "name": "#%%\n"
    }
   }
  },
  {
   "cell_type": "code",
   "execution_count": 43,
   "outputs": [
    {
     "name": "stdout",
     "output_type": "stream",
     "text": [
      "  (0, 13287)\t0.18430496478913935\n",
      "  (0, 12366)\t0.3212214244102036\n",
      "  (0, 7620)\t0.4365480024462504\n",
      "  (0, 4030)\t0.5026045133480671\n",
      "  (0, 3849)\t0.1895920025567176\n",
      "  (0, 3049)\t0.3520538281609574\n",
      "  (0, 2736)\t0.20990875380376164\n",
      "  (0, 2114)\t0.252770353116911\n",
      "  (0, 1772)\t0.1397346143024898\n",
      "  (0, 1323)\t0.3637247545156666\n",
      "  (1, 13210)\t0.3983666921272823\n",
      "  (1, 12883)\t0.2529964852625766\n",
      "  (1, 10528)\t0.27601518049680734\n",
      "  (1, 7845)\t0.37640510559403073\n",
      "  (1, 4828)\t0.3354805312372679\n",
      "  (1, 3049)\t0.3008421666438888\n",
      "  (1, 2114)\t0.21600100499479694\n",
      "  (1, 2009)\t0.2893920073550568\n",
      "  (1, 1772)\t0.11940805853896168\n",
      "  (1, 28)\t0.4601259882601576\n",
      "  (2, 12164)\t0.2750382465786881\n",
      "  (2, 12141)\t0.3622742082193478\n",
      "  (2, 5144)\t0.11309077142980895\n",
      "  (2, 4994)\t0.3545742239192275\n",
      "  (2, 4719)\t0.4570074682446998\n",
      "  :\t:\n",
      "  (67, 6621)\t0.3741670644366806\n",
      "  (67, 6497)\t0.2998726247312502\n",
      "  (67, 5144)\t0.13539562314450024\n",
      "  (67, 4642)\t0.451713228829066\n",
      "  (67, 4050)\t0.21789890402129922\n",
      "  (67, 3049)\t0.33604946214785175\n",
      "  (67, 1108)\t0.33277601660063716\n",
      "  (68, 13290)\t0.23444279280901928\n",
      "  (68, 8777)\t0.44734512162853557\n",
      "  (68, 8518)\t0.28689288641723376\n",
      "  (68, 7369)\t0.45410679323709147\n",
      "  (68, 5564)\t0.3917178748212194\n",
      "  (68, 3049)\t0.33783014064163475\n",
      "  (68, 1382)\t0.20757525598125298\n",
      "  (68, 1051)\t0.38175754981151294\n",
      "  (69, 12959)\t0.13739670902220658\n",
      "  (69, 9473)\t0.33610391587894267\n",
      "  (69, 7582)\t0.445108046726261\n",
      "  (69, 7558)\t0.1972784502163583\n",
      "  (69, 6545)\t0.2244849942194282\n",
      "  (69, 6280)\t0.32331537697545376\n",
      "  (69, 5194)\t0.4106092937520885\n",
      "  (69, 4835)\t0.33207713094282465\n",
      "  (69, 3845)\t0.2960810941845651\n",
      "  (69, 3049)\t0.3311355748596931\n"
     ]
    }
   ],
   "source": [
    "res_2 = tf_idf_vector[key_numbers[3], :]\n",
    "print(res_2)"
   ],
   "metadata": {
    "collapsed": false,
    "pycharm": {
     "name": "#%%\n"
    }
   }
  },
  {
   "cell_type": "code",
   "execution_count": 45,
   "outputs": [
    {
     "ename": "TypeError",
     "evalue": "PCA does not support sparse input. See TruncatedSVD for a possible alternative.",
     "output_type": "error",
     "traceback": [
      "\u001B[0;31m---------------------------------------------------------------------------\u001B[0m",
      "\u001B[0;31mTypeError\u001B[0m                                 Traceback (most recent call last)",
      "\u001B[0;32m<ipython-input-45-0ebf61172e92>\u001B[0m in \u001B[0;36m<module>\u001B[0;34m\u001B[0m\n\u001B[1;32m      2\u001B[0m \u001B[0;34m\u001B[0m\u001B[0m\n\u001B[1;32m      3\u001B[0m \u001B[0mpca\u001B[0m \u001B[0;34m=\u001B[0m \u001B[0mPCA\u001B[0m\u001B[0;34m(\u001B[0m\u001B[0;36m20\u001B[0m\u001B[0;34m)\u001B[0m\u001B[0;34m\u001B[0m\u001B[0;34m\u001B[0m\u001B[0m\n\u001B[0;32m----> 4\u001B[0;31m \u001B[0mc_20\u001B[0m \u001B[0;34m=\u001B[0m \u001B[0mpca\u001B[0m\u001B[0;34m.\u001B[0m\u001B[0mfit_transform\u001B[0m\u001B[0;34m(\u001B[0m\u001B[0mres_1\u001B[0m\u001B[0;34m)\u001B[0m\u001B[0;34m\u001B[0m\u001B[0;34m\u001B[0m\u001B[0m\n\u001B[0m\u001B[1;32m      5\u001B[0m \u001B[0mprint\u001B[0m\u001B[0;34m(\u001B[0m\u001B[0mc_20\u001B[0m\u001B[0;34m)\u001B[0m\u001B[0;34m\u001B[0m\u001B[0;34m\u001B[0m\u001B[0m\n",
      "\u001B[0;32m~/anaconda3/envs/quast-env/lib/python3.6/site-packages/sklearn/decomposition/_pca.py\u001B[0m in \u001B[0;36mfit_transform\u001B[0;34m(self, X, y)\u001B[0m\n\u001B[1;32m    381\u001B[0m         \u001B[0mC\u001B[0m\u001B[0;34m-\u001B[0m\u001B[0mordered\u001B[0m \u001B[0marray\u001B[0m\u001B[0;34m,\u001B[0m \u001B[0muse\u001B[0m \u001B[0;34m'np.ascontiguousarray'\u001B[0m\u001B[0;34m.\u001B[0m\u001B[0;34m\u001B[0m\u001B[0;34m\u001B[0m\u001B[0m\n\u001B[1;32m    382\u001B[0m         \"\"\"\n\u001B[0;32m--> 383\u001B[0;31m         \u001B[0mU\u001B[0m\u001B[0;34m,\u001B[0m \u001B[0mS\u001B[0m\u001B[0;34m,\u001B[0m \u001B[0mVt\u001B[0m \u001B[0;34m=\u001B[0m \u001B[0mself\u001B[0m\u001B[0;34m.\u001B[0m\u001B[0m_fit\u001B[0m\u001B[0;34m(\u001B[0m\u001B[0mX\u001B[0m\u001B[0;34m)\u001B[0m\u001B[0;34m\u001B[0m\u001B[0;34m\u001B[0m\u001B[0m\n\u001B[0m\u001B[1;32m    384\u001B[0m         \u001B[0mU\u001B[0m \u001B[0;34m=\u001B[0m \u001B[0mU\u001B[0m\u001B[0;34m[\u001B[0m\u001B[0;34m:\u001B[0m\u001B[0;34m,\u001B[0m \u001B[0;34m:\u001B[0m\u001B[0mself\u001B[0m\u001B[0;34m.\u001B[0m\u001B[0mn_components_\u001B[0m\u001B[0;34m]\u001B[0m\u001B[0;34m\u001B[0m\u001B[0;34m\u001B[0m\u001B[0m\n\u001B[1;32m    385\u001B[0m \u001B[0;34m\u001B[0m\u001B[0m\n",
      "\u001B[0;32m~/anaconda3/envs/quast-env/lib/python3.6/site-packages/sklearn/decomposition/_pca.py\u001B[0m in \u001B[0;36m_fit\u001B[0;34m(self, X)\u001B[0m\n\u001B[1;32m    399\u001B[0m         \u001B[0;31m# This is more informative than the generic one raised by check_array.\u001B[0m\u001B[0;34m\u001B[0m\u001B[0;34m\u001B[0m\u001B[0;34m\u001B[0m\u001B[0m\n\u001B[1;32m    400\u001B[0m         \u001B[0;32mif\u001B[0m \u001B[0missparse\u001B[0m\u001B[0;34m(\u001B[0m\u001B[0mX\u001B[0m\u001B[0;34m)\u001B[0m\u001B[0;34m:\u001B[0m\u001B[0;34m\u001B[0m\u001B[0;34m\u001B[0m\u001B[0m\n\u001B[0;32m--> 401\u001B[0;31m             raise TypeError('PCA does not support sparse input. See '\n\u001B[0m\u001B[1;32m    402\u001B[0m                             'TruncatedSVD for a possible alternative.')\n\u001B[1;32m    403\u001B[0m \u001B[0;34m\u001B[0m\u001B[0m\n",
      "\u001B[0;31mTypeError\u001B[0m: PCA does not support sparse input. See TruncatedSVD for a possible alternative."
     ]
    }
   ],
   "source": [
    "from sklearn.decomposition import PCA\n",
    "\n",
    "pca = PCA(20)\n",
    "c_20 = pca.fit_transform(res_1)\n",
    "print(c_20)"
   ],
   "metadata": {
    "collapsed": false,
    "pycharm": {
     "name": "#%%\n"
    }
   }
  },
  {
   "cell_type": "code",
   "execution_count": 44,
   "outputs": [
    {
     "ename": "ValueError",
     "evalue": "Cannot center sparse matrices: pass `with_mean=False` instead. See docstring for motivation and alternatives.",
     "output_type": "error",
     "traceback": [
      "\u001B[0;31m---------------------------------------------------------------------------\u001B[0m",
      "\u001B[0;31mValueError\u001B[0m                                Traceback (most recent call last)",
      "\u001B[0;32m<ipython-input-44-6ef750215a5a>\u001B[0m in \u001B[0;36m<module>\u001B[0;34m\u001B[0m\n\u001B[1;32m      3\u001B[0m \u001B[0mscaler\u001B[0m \u001B[0;34m=\u001B[0m \u001B[0mStandardScaler\u001B[0m\u001B[0;34m(\u001B[0m\u001B[0;34m)\u001B[0m\u001B[0;34m\u001B[0m\u001B[0;34m\u001B[0m\u001B[0m\n\u001B[1;32m      4\u001B[0m \u001B[0;34m\u001B[0m\u001B[0m\n\u001B[0;32m----> 5\u001B[0;31m \u001B[0mres_scal\u001B[0m \u001B[0;34m=\u001B[0m \u001B[0mscaler\u001B[0m\u001B[0;34m.\u001B[0m\u001B[0mfit_transform\u001B[0m\u001B[0;34m(\u001B[0m\u001B[0mres_1\u001B[0m\u001B[0;34m)\u001B[0m\u001B[0;34m\u001B[0m\u001B[0;34m\u001B[0m\u001B[0m\n\u001B[0m\u001B[1;32m      6\u001B[0m \u001B[0;34m\u001B[0m\u001B[0m\n\u001B[1;32m      7\u001B[0m \u001B[0mprint\u001B[0m\u001B[0;34m(\u001B[0m\u001B[0mres_scal\u001B[0m\u001B[0;34m)\u001B[0m\u001B[0;34m\u001B[0m\u001B[0;34m\u001B[0m\u001B[0m\n",
      "\u001B[0;32m~/anaconda3/envs/quast-env/lib/python3.6/site-packages/sklearn/base.py\u001B[0m in \u001B[0;36mfit_transform\u001B[0;34m(self, X, y, **fit_params)\u001B[0m\n\u001B[1;32m    697\u001B[0m         \u001B[0;32mif\u001B[0m \u001B[0my\u001B[0m \u001B[0;32mis\u001B[0m \u001B[0;32mNone\u001B[0m\u001B[0;34m:\u001B[0m\u001B[0;34m\u001B[0m\u001B[0;34m\u001B[0m\u001B[0m\n\u001B[1;32m    698\u001B[0m             \u001B[0;31m# fit method of arity 1 (unsupervised transformation)\u001B[0m\u001B[0;34m\u001B[0m\u001B[0;34m\u001B[0m\u001B[0;34m\u001B[0m\u001B[0m\n\u001B[0;32m--> 699\u001B[0;31m             \u001B[0;32mreturn\u001B[0m \u001B[0mself\u001B[0m\u001B[0;34m.\u001B[0m\u001B[0mfit\u001B[0m\u001B[0;34m(\u001B[0m\u001B[0mX\u001B[0m\u001B[0;34m,\u001B[0m \u001B[0;34m**\u001B[0m\u001B[0mfit_params\u001B[0m\u001B[0;34m)\u001B[0m\u001B[0;34m.\u001B[0m\u001B[0mtransform\u001B[0m\u001B[0;34m(\u001B[0m\u001B[0mX\u001B[0m\u001B[0;34m)\u001B[0m\u001B[0;34m\u001B[0m\u001B[0;34m\u001B[0m\u001B[0m\n\u001B[0m\u001B[1;32m    700\u001B[0m         \u001B[0;32melse\u001B[0m\u001B[0;34m:\u001B[0m\u001B[0;34m\u001B[0m\u001B[0;34m\u001B[0m\u001B[0m\n\u001B[1;32m    701\u001B[0m             \u001B[0;31m# fit method of arity 2 (supervised transformation)\u001B[0m\u001B[0;34m\u001B[0m\u001B[0;34m\u001B[0m\u001B[0;34m\u001B[0m\u001B[0m\n",
      "\u001B[0;32m~/anaconda3/envs/quast-env/lib/python3.6/site-packages/sklearn/preprocessing/_data.py\u001B[0m in \u001B[0;36mfit\u001B[0;34m(self, X, y, sample_weight)\u001B[0m\n\u001B[1;32m    728\u001B[0m         \u001B[0;31m# Reset internal state before fitting\u001B[0m\u001B[0;34m\u001B[0m\u001B[0;34m\u001B[0m\u001B[0;34m\u001B[0m\u001B[0m\n\u001B[1;32m    729\u001B[0m         \u001B[0mself\u001B[0m\u001B[0;34m.\u001B[0m\u001B[0m_reset\u001B[0m\u001B[0;34m(\u001B[0m\u001B[0;34m)\u001B[0m\u001B[0;34m\u001B[0m\u001B[0;34m\u001B[0m\u001B[0m\n\u001B[0;32m--> 730\u001B[0;31m         \u001B[0;32mreturn\u001B[0m \u001B[0mself\u001B[0m\u001B[0;34m.\u001B[0m\u001B[0mpartial_fit\u001B[0m\u001B[0;34m(\u001B[0m\u001B[0mX\u001B[0m\u001B[0;34m,\u001B[0m \u001B[0my\u001B[0m\u001B[0;34m,\u001B[0m \u001B[0msample_weight\u001B[0m\u001B[0;34m)\u001B[0m\u001B[0;34m\u001B[0m\u001B[0;34m\u001B[0m\u001B[0m\n\u001B[0m\u001B[1;32m    731\u001B[0m \u001B[0;34m\u001B[0m\u001B[0m\n\u001B[1;32m    732\u001B[0m     \u001B[0;32mdef\u001B[0m \u001B[0mpartial_fit\u001B[0m\u001B[0;34m(\u001B[0m\u001B[0mself\u001B[0m\u001B[0;34m,\u001B[0m \u001B[0mX\u001B[0m\u001B[0;34m,\u001B[0m \u001B[0my\u001B[0m\u001B[0;34m=\u001B[0m\u001B[0;32mNone\u001B[0m\u001B[0;34m,\u001B[0m \u001B[0msample_weight\u001B[0m\u001B[0;34m=\u001B[0m\u001B[0;32mNone\u001B[0m\u001B[0;34m)\u001B[0m\u001B[0;34m:\u001B[0m\u001B[0;34m\u001B[0m\u001B[0;34m\u001B[0m\u001B[0m\n",
      "\u001B[0;32m~/anaconda3/envs/quast-env/lib/python3.6/site-packages/sklearn/preprocessing/_data.py\u001B[0m in \u001B[0;36mpartial_fit\u001B[0;34m(self, X, y, sample_weight)\u001B[0m\n\u001B[1;32m    792\u001B[0m             \u001B[0;32mif\u001B[0m \u001B[0mself\u001B[0m\u001B[0;34m.\u001B[0m\u001B[0mwith_mean\u001B[0m\u001B[0;34m:\u001B[0m\u001B[0;34m\u001B[0m\u001B[0;34m\u001B[0m\u001B[0m\n\u001B[1;32m    793\u001B[0m                 raise ValueError(\n\u001B[0;32m--> 794\u001B[0;31m                     \u001B[0;34m\"Cannot center sparse matrices: pass `with_mean=False` \"\u001B[0m\u001B[0;34m\u001B[0m\u001B[0;34m\u001B[0m\u001B[0m\n\u001B[0m\u001B[1;32m    795\u001B[0m                     \"instead. See docstring for motivation and alternatives.\")\n\u001B[1;32m    796\u001B[0m             sparse_constructor = (sparse.csr_matrix\n",
      "\u001B[0;31mValueError\u001B[0m: Cannot center sparse matrices: pass `with_mean=False` instead. See docstring for motivation and alternatives."
     ]
    }
   ],
   "source": [
    "from sklearn.preprocessing import StandardScaler\n",
    "\n",
    "scaler = StandardScaler()\n",
    "\n",
    "res_scal = scaler.fit_transform(res_1)\n",
    "\n",
    "print(res_scal)"
   ],
   "metadata": {
    "collapsed": false,
    "pycharm": {
     "name": "#%%\n"
    }
   }
  },
  {
   "cell_type": "code",
   "execution_count": null,
   "outputs": [],
   "source": [],
   "metadata": {
    "collapsed": false,
    "pycharm": {
     "name": "#%%\n"
    }
   }
  }
 ],
 "metadata": {
  "kernelspec": {
   "display_name": "Python 3",
   "language": "python",
   "name": "python3"
  },
  "language_info": {
   "codemirror_mode": {
    "name": "ipython",
    "version": 2
   },
   "file_extension": ".py",
   "mimetype": "text/x-python",
   "name": "python",
   "nbconvert_exporter": "python",
   "pygments_lexer": "ipython2",
   "version": "2.7.6"
  }
 },
 "nbformat": 4,
 "nbformat_minor": 0
}