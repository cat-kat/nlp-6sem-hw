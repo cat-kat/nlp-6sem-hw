{
 "cells": [
  {
   "cell_type": "code",
   "execution_count": 18,
   "outputs": [],
   "source": [
    "import nltk\n",
    "import pymorphy2\n",
    "import math\n",
    "from matplotlib import pyplot as pp\n",
    "import codecs\n",
    "import os"
   ],
   "metadata": {
    "collapsed": false,
    "pycharm": {
     "name": "#%%\n"
    }
   }
  },
  {
   "cell_type": "code",
   "execution_count": 19,
   "outputs": [],
   "source": [
    "texts = []\n",
    "all_words = set()\n",
    "morph = pymorphy2.MorphAnalyzer()\n",
    "count = 0\n",
    "classes = ['neg', 'pos']\n",
    "for elem in classes:\n",
    "    os.chdir(\"/home/katty/0spbu/nlp_6sem/dataset/test_1/\" + elem)\n",
    "    for root, dirs, files in os.walk(os.getcwd()):\n",
    "        if files:\n",
    "\n",
    "            for file in files:\n",
    "                otziv = []\n",
    "                file = codecs.open(root + \"/\" + file, \"r\", \"utf8\")\n",
    "                for line in file:\n",
    "                    for word in nltk.tokenize.word_tokenize(line):\n",
    "                        if word.isalpha():\n",
    "                            normal_word = morph.parse(word.lower())[0].normal_form\n",
    "                            if normal_word not in all_words:\n",
    "                                all_words.add(normal_word)\n",
    "                            otziv.append(normal_word)\n",
    "                    #otziv += [morph.parse(word.lower())[0].normal_form for word in nltk.tokenize.word_tokenize(line) if word.isalpha()]\n",
    "                texts.append((otziv, elem))\n",
    "                count += 1\n",
    "                if count % 500 == 0:\n",
    "                    break"
   ],
   "metadata": {
    "collapsed": false,
    "pycharm": {
     "name": "#%%\n"
    }
   }
  },
  {
   "cell_type": "code",
   "execution_count": 20,
   "outputs": [
    {
     "name": "stdout",
     "output_type": "stream",
     "text": [
      "1000\n"
     ]
    }
   ],
   "source": [
    "print(len(texts))"
   ],
   "metadata": {
    "collapsed": false,
    "pycharm": {
     "name": "#%%\n"
    }
   }
  },
  {
   "cell_type": "code",
   "execution_count": 21,
   "outputs": [],
   "source": [
    "def text_2_features(text):\n",
    "    return {word: (word in text) for word in all_words}\n",
    "\n",
    "data = [(text_2_features(text), cls) for text, cls in texts]"
   ],
   "metadata": {
    "collapsed": false,
    "pycharm": {
     "name": "#%%\n"
    }
   }
  },
  {
   "cell_type": "code",
   "execution_count": 22,
   "outputs": [],
   "source": [
    "import random\n",
    "random.shuffle(data)\n",
    "train_set = data[:round(0.9*len(data))]\n",
    "test_set = data[round(0.9*len(data)):]"
   ],
   "metadata": {
    "collapsed": false,
    "pycharm": {
     "name": "#%%\n"
    }
   }
  },
  {
   "cell_type": "code",
   "execution_count": 23,
   "outputs": [],
   "source": [
    "from nltk import NaiveBayesClassifier\n",
    "\n",
    "# обучаем модель\n",
    "model = NaiveBayesClassifier.train(train_set)"
   ],
   "metadata": {
    "collapsed": false,
    "pycharm": {
     "name": "#%%\n"
    }
   }
  },
  {
   "cell_type": "code",
   "execution_count": 24,
   "outputs": [],
   "source": [
    "count_right = 0\n",
    "for elem, label in test_set:\n",
    "    new_label = model.classify(elem)\n",
    "    if label == new_label:\n",
    "        count_right += 1"
   ],
   "metadata": {
    "collapsed": false,
    "pycharm": {
     "name": "#%%\n"
    }
   }
  },
  {
   "cell_type": "code",
   "execution_count": 25,
   "outputs": [
    {
     "name": "stdout",
     "output_type": "stream",
     "text": [
      "Всего test_set: 100 предсказно правильно 96 в процентах 96.0\n"
     ]
    }
   ],
   "source": [
    "print(\"Всего test_set:\", len(test_set), \"предсказно правильно\", count_right, \"в процентах\", 100*count_right/len(test_set))"
   ],
   "metadata": {
    "collapsed": false,
    "pycharm": {
     "name": "#%%\n"
    }
   }
  },
  {
   "cell_type": "code",
   "execution_count": 25,
   "outputs": [],
   "source": [],
   "metadata": {
    "collapsed": false,
    "pycharm": {
     "name": "#%%\n"
    }
   }
  }
 ],
 "metadata": {
  "kernelspec": {
   "display_name": "Python 3",
   "language": "python",
   "name": "python3"
  },
  "language_info": {
   "codemirror_mode": {
    "name": "ipython",
    "version": 2
   },
   "file_extension": ".py",
   "mimetype": "text/x-python",
   "name": "python",
   "nbconvert_exporter": "python",
   "pygments_lexer": "ipython2",
   "version": "2.7.6"
  }
 },
 "nbformat": 4,
 "nbformat_minor": 0
}