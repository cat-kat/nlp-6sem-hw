{
 "cells": [
  {
   "cell_type": "markdown",
   "source": [
    "Данные для обучения возьмем из проекта [opencorpora.org](http://opencorpora.org/?page=downloads)\n",
    "Скачаем размеченный корпус со снятой омонимией без UNKN как `oc.xml`\n",
    "\n",
    "Разберем XML:"
   ],
   "metadata": {
    "collapsed": false,
    "pycharm": {
     "name": "#%% md\n"
    }
   }
  },
  {
   "cell_type": "code",
   "execution_count": 1,
   "outputs": [],
   "source": [
    "from xml.etree import ElementTree as ET\n",
    "\n",
    "with open(\"/home/katty/Загрузки/os.xml\", mode=\"r\", encoding=\"utf8\") as f:\n",
    "    doc = ET.parse(f)"
   ],
   "metadata": {
    "collapsed": false,
    "pycharm": {
     "name": "#%%\n"
    }
   }
  },
  {
   "cell_type": "code",
   "execution_count": 2,
   "outputs": [],
   "source": [
    "all_sentences = []\n",
    "\n",
    "for text in doc.getroot():\n",
    "    paragraphs = text.find('paragraphs')\n",
    "    for paragraph in paragraphs:\n",
    "        for sentence in paragraph:\n",
    "            tokens = sentence.find('tokens')\n",
    "\n",
    "            new_sentence = []\n",
    "            all_sentences.append(new_sentence)\n",
    "            for token in tokens:\n",
    "                word = token.get('text')\n",
    "                g = token.find('tfr').find('v').find('l').find('g')\n",
    "                pos = g.get('v')\n",
    "                new_sentence.append((word, pos))"
   ],
   "metadata": {
    "collapsed": false,
    "pycharm": {
     "name": "#%%\n"
    }
   }
  },
  {
   "cell_type": "code",
   "execution_count": 3,
   "outputs": [
    {
     "data": {
      "text/plain": "10971"
     },
     "execution_count": 3,
     "metadata": {},
     "output_type": "execute_result"
    }
   ],
   "source": [
    "len(all_sentences)"
   ],
   "metadata": {
    "collapsed": false,
    "pycharm": {
     "name": "#%%\n"
    }
   }
  },
  {
   "cell_type": "code",
   "execution_count": 19,
   "outputs": [],
   "source": [
    "train_set = all_sentences[:round(0.8*len(all_sentences))]\n",
    "test_set =  all_sentences[round(0.8*len(all_sentences)):round(0.9*len(all_sentences))]\n",
    "valid_set = all_sentences[round(0.9*len(all_sentences)):]"
   ],
   "metadata": {
    "collapsed": false,
    "pycharm": {
     "name": "#%%\n"
    }
   }
  },
  {
   "cell_type": "markdown",
   "source": [
    "Необходимо научиться превращать слова в набор признаков:"
   ],
   "metadata": {
    "collapsed": false,
    "pycharm": {
     "name": "#%% md\n"
    }
   }
  },
  {
   "cell_type": "code",
   "execution_count": 20,
   "outputs": [],
   "source": [
    "\n",
    "def get_features(sentence, word_index):\n",
    "    word, pos = sentence[word_index]\n",
    "\n",
    "    features = {\n",
    "        '[-2:]': word[-2:],\n",
    "        '[-3:]': word[-3:],\n",
    "        '[-1:]': word[-1:]\n",
    "    }\n",
    "    if word_index == 0:\n",
    "        features['START'] = True\n",
    "    elif word_index == len(sentence) -1:\n",
    "        features['END'] = True\n",
    "    else:\n",
    "        features[\"PREV\"] = sentence[word_index-1][1]\n",
    "\n",
    "    return features"
   ],
   "metadata": {
    "collapsed": false,
    "pycharm": {
     "name": "#%%\n"
    }
   }
  },
  {
   "cell_type": "code",
   "execution_count": 21,
   "outputs": [],
   "source": [
    "all_features = [\n",
    "    [get_features(sentence, ind) for ind in range(len(sentence))]\n",
    "    for sentence in all_sentences\n",
    "]"
   ],
   "metadata": {
    "collapsed": false,
    "pycharm": {
     "name": "#%%\n"
    }
   }
  },
  {
   "cell_type": "code",
   "execution_count": 22,
   "outputs": [],
   "source": [
    "train_features = all_features[:round(0.8*len(all_features))]\n",
    "test_features =  all_features[round(0.8*len(all_features)):round(0.9*len(all_features))]\n",
    "valid_features = all_features[round(0.9*len(all_features)):]"
   ],
   "metadata": {
    "collapsed": false,
    "pycharm": {
     "name": "#%%\n"
    }
   }
  },
  {
   "cell_type": "code",
   "execution_count": 23,
   "outputs": [],
   "source": [
    "all_pos = [\n",
    "    [pos for word, pos in sentence]\n",
    "    for sentence in all_sentences\n",
    "]\n",
    "\n",
    "train_pos = all_pos[:round(0.8*len(all_pos))]\n",
    "test_pos=  all_pos[round(0.8*len(all_pos)):round(0.9*len(all_pos))]\n",
    "valid_pos = all_pos[round(0.9*len(all_pos)):]"
   ],
   "metadata": {
    "collapsed": false,
    "pycharm": {
     "name": "#%%\n"
    }
   }
  },
  {
   "cell_type": "markdown",
   "source": [
    "# Теперь модель обучена!"
   ],
   "metadata": {
    "collapsed": false,
    "pycharm": {
     "name": "#%% md\n"
    }
   }
  },
  {
   "cell_type": "code",
   "execution_count": 24,
   "outputs": [
    {
     "name": "stdout",
     "output_type": "stream",
     "text": [
      "0.9072135471096163 ['lbfgs', 0.05, 200]\n",
      "CPU times: user 6min 27s, sys: 340 ms, total: 6min 27s\n",
      "Wall time: 6min 28s\n"
     ]
    }
   ],
   "source": [
    "%%time\n",
    "\n",
    "import sklearn_crfsuite\n",
    "\n",
    "algorithms = [\"lbfgs\"]\n",
    "c1_vals = [0.05, 0.075, 0.1, 0.15, 0.15, 0.2, 0.25]\n",
    "#c2_vals = [1.05, 1.075, 1.1, 1.15, 0.95, 0.8, 1.25]\n",
    "max_iterations_vals = [100, 200, 300, 400, 500]\n",
    "best_params = [\"\", 0, 0]\n",
    "max_arg = 0\n",
    "\n",
    "\n",
    "for algo in algorithms:\n",
    "    for c1_val in c1_vals:\n",
    "            for max_iterations_val in max_iterations_vals:\n",
    "                crf = sklearn_crfsuite.CRF(\n",
    "                    algorithm=algo,\n",
    "                    c1=c1_val,\n",
    "                    c2 = 1,\n",
    "                    max_iterations=max_iterations_val,\n",
    "                    all_possible_transitions=True\n",
    "                )\n",
    "                crf.fit(train_features, train_pos)\n",
    "\n",
    "                results = []\n",
    "                for sent in test_set:\n",
    "                    test_sentence = sent\n",
    "                    test_features = [\n",
    "                        [get_features(test_sentence, ind) for ind in range(len(test_sentence))]\n",
    "                    ]\n",
    "\n",
    "                    results.append(crf.predict(test_features)[0])\n",
    "                y_true = []\n",
    "                y_pred = []\n",
    "\n",
    "                for i in range(len(results)):\n",
    "                    for elem in test_pos[i]:\n",
    "                        y_true.append(elem)\n",
    "                    for elem in results[i]:\n",
    "                        y_pred.append(elem)\n",
    "\n",
    "                from sklearn import metrics\n",
    "\n",
    "                current_arg = metrics.f1_score(y_true, y_pred, labels=['NOUN',  'VERB',  \"ADJF\", \"ADJS\", \"COMP\",\"INFN\",\"PRTF\",\"PRTS\",\"GRND\",\"NUMR\",\"ADVB\",\"NPRO\",\"PRED\",\"PREP\",\"CONJ\",\"PRCL\",\"INTJ\"], average=\"weighted\")\n",
    "                if current_arg > max_arg:\n",
    "                    max_arg = current_arg\n",
    "                    best_params = [algo, c1_val, max_iterations_val]\n",
    "\n",
    "print(max_arg, best_params)"
   ],
   "metadata": {
    "collapsed": false,
    "pycharm": {
     "name": "#%%\n"
    }
   }
  },
  {
   "cell_type": "code",
   "execution_count": 25,
   "outputs": [
    {
     "name": "stdout",
     "output_type": "stream",
     "text": [
      "0.9072135471096163 ['lbfgs', 0.05, 200]\n",
      "              precision    recall  f1-score   support\n",
      "\n",
      "        NOUN      0.923     0.951     0.937      1582\n",
      "        VERB      0.920     0.938     0.929       480\n",
      "        ADJF      0.843     0.939     0.888       445\n",
      "        ADJS      0.933     0.467     0.622        30\n",
      "        COMP      1.000     0.500     0.667        18\n",
      "        INFN      0.967     0.956     0.961        91\n",
      "        PRTS      0.938     0.789     0.857        19\n",
      "        ADVB      0.688     0.782     0.732       110\n",
      "        NPRO      0.951     0.901     0.925       192\n",
      "        PRED      1.000     1.000     1.000        20\n",
      "        PREP      0.973     0.979     0.976       328\n",
      "        CONJ      0.849     0.616     0.714        73\n",
      "        PRCL      0.989     0.898     0.941        98\n",
      "        INTJ      0.036     0.100     0.053        10\n",
      "\n",
      "   micro avg      0.905     0.924     0.914      3496\n",
      "   macro avg      0.858     0.773     0.800      3496\n",
      "weighted avg      0.911     0.924     0.916      3496\n",
      "\n"
     ]
    }
   ],
   "source": [
    "from sklearn import metrics\n",
    "print(max_arg, best_params)\n",
    "crf = sklearn_crfsuite.CRF(\n",
    "    algorithm=best_params[0],\n",
    "    c1=best_params[1],\n",
    "    c2 = 1,\n",
    "    max_iterations=best_params[2],\n",
    "    all_possible_transitions=True\n",
    ")\n",
    "\n",
    "crf.fit(train_features, train_pos)\n",
    "\n",
    "\n",
    "results = []\n",
    "for sent in valid_set:\n",
    "    test_sentence = sent\n",
    "    test_features = [\n",
    "        [get_features(test_sentence, ind) for ind in range(len(test_sentence))]\n",
    "    ]\n",
    "\n",
    "    results.append(crf.predict(test_features)[0])\n",
    "y_true = []\n",
    "y_pred = []\n",
    "\n",
    "for i in range(len(results)):\n",
    "    for elem in valid_pos[i]:\n",
    "        y_true.append(elem)\n",
    "    for elem in results[i]:\n",
    "        y_pred.append(elem)\n",
    "\n",
    "\n",
    "print(metrics.classification_report(y_true, y_pred, labels=['NOUN',  'VERB',  \"ADJF\", \"ADJS\", \"COMP\",\"INFN\",\"PRTS\",\"ADVB\",\"NPRO\",\"PRED\",\"PREP\",\"CONJ\",\"PRCL\",\"INTJ\"], digits=3))"
   ],
   "metadata": {
    "collapsed": false,
    "pycharm": {
     "name": "#%%\n"
    }
   }
  }
 ],
 "metadata": {
  "kernelspec": {
   "display_name": "Python 3",
   "language": "python",
   "name": "python3"
  },
  "language_info": {
   "codemirror_mode": {
    "name": "ipython",
    "version": 2
   },
   "file_extension": ".py",
   "mimetype": "text/x-python",
   "name": "python",
   "nbconvert_exporter": "python",
   "pygments_lexer": "ipython2",
   "version": "2.7.6"
  }
 },
 "nbformat": 4,
 "nbformat_minor": 0
}