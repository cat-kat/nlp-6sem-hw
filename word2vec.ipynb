{
 "cells": [
  {
   "cell_type": "code",
   "execution_count": 65,
   "metadata": {
    "collapsed": true,
    "pycharm": {
     "name": "#%%\n"
    }
   },
   "outputs": [],
   "source": [
    "import random\n",
    "import gensim\n",
    "import nltk\n",
    "import codecs\n",
    "import pymorphy2\n",
    "from sklearn.cluster import KMeans\n",
    "from sklearn.neighbors import LocalOutlierFactor\n",
    "from sklearn.decomposition import PCA\n",
    "from sklearn.preprocessing import StandardScaler\n",
    "from matplotlib import pyplot as pp\n",
    "\n",
    "morph = pymorphy2.MorphAnalyzer()"
   ]
  },
  {
   "cell_type": "code",
   "execution_count": 66,
   "outputs": [],
   "source": [
    "filename = \"ruscorpora_upos_skipgram_300_5_2018.vec\"\n",
    "path = \"/home/katty/Загрузки/\" + filename\n",
    "model = gensim.models.KeyedVectors.load_word2vec_format(path)"
   ],
   "metadata": {
    "collapsed": false,
    "pycharm": {
     "name": "#%%\n"
    }
   }
  },
  {
   "cell_type": "code",
   "execution_count": 67,
   "outputs": [],
   "source": [
    "text = codecs.open(\"/home/katty/anaconda3/_nlp/project_hp/corp/6.txt\", \"r\", \"utf-8\").read()"
   ],
   "metadata": {
    "collapsed": false,
    "pycharm": {
     "name": "#%%\n"
    }
   }
  },
  {
   "cell_type": "code",
   "execution_count": 68,
   "outputs": [
    {
     "name": "stdout",
     "output_type": "stream",
     "text": [
      "['annotation_LATN', 'министерство_NOUN', 'магия_NOUN', 'терпеть_VERB', 'поражение_NOUN', 'за_PREP', 'поражение_NOUN', 'в_PREP', 'битва_NOUN', 'с_PREP']\n"
     ]
    }
   ],
   "source": [
    "normal_text = []\n",
    "for word in nltk.tokenize.word_tokenize(text):\n",
    "    if word.isalpha():\n",
    "        morph_res = morph.parse(word.lower())[0]\n",
    "        normal_text.append(morph_res.normal_form + \"_\" + str(morph_res.tag).split(\",\")[0])\n",
    "\n",
    "print(normal_text[:10])"
   ],
   "metadata": {
    "collapsed": false,
    "pycharm": {
     "name": "#%%\n"
    }
   }
  },
  {
   "cell_type": "code",
   "execution_count": 69,
   "outputs": [
    {
     "name": "stdout",
     "output_type": "stream",
     "text": [
      "146293 51162 95131\n"
     ]
    }
   ],
   "source": [
    "counter_non_words = 0\n",
    "mx = []\n",
    "using_words = []\n",
    "for word in normal_text:\n",
    "    try:\n",
    "        vector = model.get_vector(word)\n",
    "        mx.append(vector)\n",
    "        using_words.append(word)\n",
    "    except KeyError:\n",
    "        counter_non_words += 1\n",
    "\n",
    "print(len(normal_text), len(using_words), counter_non_words)"
   ],
   "metadata": {
    "collapsed": false,
    "pycharm": {
     "name": "#%%\n"
    }
   }
  },
  {
   "cell_type": "code",
   "execution_count": 70,
   "outputs": [
    {
     "name": "stdout",
     "output_type": "stream",
     "text": [
      "Scales done!\n",
      "PCA done!\n"
     ]
    }
   ],
   "source": [
    "vis_scaler = StandardScaler()\n",
    "vis_pca = PCA(2)\n",
    "t_scales = vis_scaler.fit_transform(mx)\n",
    "print(\"Scales done!\")\n",
    "t_2 = vis_pca.fit_transform(t_scales)\n",
    "print(\"PCA done!\")\n"
   ],
   "metadata": {
    "collapsed": false,
    "pycharm": {
     "name": "#%%\n"
    }
   }
  },
  {
   "cell_type": "code",
   "execution_count": 71,
   "outputs": [],
   "source": [
    "kmeans = KMeans(4)\n",
    "\n",
    "cluster = kmeans.fit_predict(t_2)"
   ],
   "metadata": {
    "collapsed": false,
    "pycharm": {
     "name": "#%%\n"
    }
   }
  },
  {
   "cell_type": "code",
   "execution_count": 72,
   "outputs": [
    {
     "name": "stdout",
     "output_type": "stream",
     "text": [
      "[[-0.37594878 -0.97269716]\n",
      " [15.38218917  0.74143877]\n",
      " [-1.57777561  3.76938066]\n",
      " [-1.3279903  -5.13429898]]\n"
     ]
    },
    {
     "data": {
      "text/plain": "[<matplotlib.lines.Line2D at 0x7f524666bc88>]"
     },
     "execution_count": 72,
     "metadata": {},
     "output_type": "execute_result"
    },
    {
     "data": {
      "text/plain": "<Figure size 432x288 with 1 Axes>",
      "image/png": "[encoded data removed]"
     },
     "metadata": {
      "needs_background": "light"
     },
     "output_type": "display_data"
    }
   ],
   "source": [
    "\n",
    "t_first = t_2[cluster == 0, :]\n",
    "t_second = t_2[cluster == 1, :]\n",
    "t_third = t_2[cluster == 2, :]\n",
    "t_fourth = t_2[cluster == 3, :]\n",
    "\n",
    "# хотела вытащить центроидные слова, но пока сложно\n",
    "centers = kmeans.cluster_centers_\n",
    "print(centers)\n",
    "\n",
    "pp.plot(t_first[:, 0], t_first[:, 1], 'ob')\n",
    "pp.plot(t_second[:, 0], t_second[:, 1], 'oy')\n",
    "pp.plot(t_third[:, 0], t_third[:, 1], 'og')\n",
    "pp.plot(t_fourth[:, 0], t_fourth[:, 1], 'or')\n",
    "pp.plot(centers[:, 0], centers[:, 1], 'x')\n",
    "#pp.xlim([-3, 3])\n",
    "#pp.ylim([-3, 3])"
   ],
   "metadata": {
    "collapsed": false,
    "pycharm": {
     "name": "#%%\n"
    }
   }
  },
  {
   "cell_type": "code",
   "execution_count": 73,
   "outputs": [
    {
     "name": "stdout",
     "output_type": "stream",
     "text": [
      "Размеры кластеров: 22717 3024 16896 8525\n",
      "По 20 слов из каждого кластера:\n",
      "['делать_VERB', 'фурор_NOUN', 'покинуть_VERB', 'место_NOUN', 'рамка_NOUN', 'приходиться_VERB', 'любить_VERB', 'встать_VERB', 'видеть_VERB', 'выйти_VERB', 'вечеринка_NOUN', 'место_NOUN', 'ощущение_NOUN', 'ожидать_VERB', 'гадость_NOUN', 'волшебник_NOUN', 'навещать_VERB', 'организм_NOUN', 'огрызнуться_VERB', 'вид_NOUN']\n",
      "['гарри_NOUN', 'поттер_NOUN', 'гарри_NOUN', 'гарри_NOUN', 'гарри_NOUN', 'гарри_NOUN', 'гарри_NOUN', 'гарри_NOUN', 'гарри_NOUN', 'гарри_NOUN', 'гарри_NOUN', 'гарри_NOUN', 'гарри_NOUN', 'гарри_NOUN', 'гарри_NOUN', 'гарри_NOUN', 'гарри_NOUN', 'гарри_NOUN', 'гарри_NOUN', 'гарри_NOUN']\n",
      "['пуговица_NOUN', 'дверь_NOUN', 'мешочек_NOUN', 'впадина_NOUN', 'пламя_NOUN', 'прибор_NOUN', 'монета_NOUN', 'лицо_NOUN', 'палец_NOUN', 'ложка_NOUN', 'лицо_NOUN', 'оцепенение_NOUN', 'глаз_NOUN', 'лицо_NOUN', 'потереть_VERB', 'жар_NOUN', 'послышаться_VERB', 'флакон_NOUN', 'скважина_NOUN', 'заглядывать_VERB']\n",
      "['сказать_VERB', 'просить_VERB', 'поступок_NOUN', 'понять_VERB', 'уверять_VERB', 'вопрос_NOUN', 'ответить_VERB', 'сказать_VERB', 'сказать_VERB', 'остаться_VERB', 'сказать_VERB', 'иметь_VERB', 'желание_NOUN', 'понять_VERB', 'ответить_VERB', 'объявить_VERB', 'выздороветь_VERB', 'сказать_VERB', 'хотеть_VERB', 'мочь_VERB']\n"
     ]
    }
   ],
   "source": [
    "cls_1 = []\n",
    "cls_2 = []\n",
    "cls_3 = []\n",
    "cls_4 = []\n",
    "for i in range(len(using_words)):\n",
    "    if cluster[i] == 2:\n",
    "        cls_3.append(using_words[i])\n",
    "    elif cluster[i] == 1:\n",
    "        cls_2.append(using_words[i])\n",
    "    elif cluster[i] == 0:\n",
    "        cls_1.append(using_words[i])\n",
    "    elif cluster[i] == 3:\n",
    "        cls_4.append(using_words[i])\n",
    "\n",
    "print(\"Размеры кластеров:\", len(cls_1), len(cls_2), len(cls_3), len(cls_4))\n",
    "print(\"По 20 слов из каждого кластера:\")\n",
    "for cls in cls_1, cls_2, cls_3, cls_4:\n",
    "    random.shuffle(cls)\n",
    "    print(cls[:20])"
   ],
   "metadata": {
    "collapsed": false,
    "pycharm": {
     "name": "#%%\n"
    }
   }
  },
  {
   "cell_type": "code",
   "execution_count": 73,
   "outputs": [],
   "source": [],
   "metadata": {
    "collapsed": false,
    "pycharm": {
     "name": "#%%\n"
    }
   }
  },
  {
   "cell_type": "code",
   "execution_count": null,
   "outputs": [],
   "source": [],
   "metadata": {
    "collapsed": false,
    "pycharm": {
     "name": "#%%\n"
    }
   }
  },
  {
   "cell_type": "code",
   "execution_count": 8,
   "outputs": [],
   "source": [],
   "metadata": {
    "collapsed": false,
    "pycharm": {
     "name": "#%%\n"
    }
   }
  }
 ],
 "metadata": {
  "kernelspec": {
   "display_name": "Python 3",
   "language": "python",
   "name": "python3"
  },
  "language_info": {
   "codemirror_mode": {
    "name": "ipython",
    "version": 2
   },
   "file_extension": ".py",
   "mimetype": "text/x-python",
   "name": "python",
   "nbconvert_exporter": "python",
   "pygments_lexer": "ipython2",
   "version": "2.7.6"
  }
 },
 "nbformat": 4,
 "nbformat_minor": 0
}